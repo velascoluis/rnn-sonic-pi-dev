{
  "nbformat": 4,
  "nbformat_minor": 0,
  "metadata": {
    "accelerator": "GPU",
    "colab": {
      "name": "RNNandSonicPi.ipynb",
      "provenance": []
    },
    "kernelspec": {
      "display_name": "Python 3",
      "name": "python3"
    }
  },
  "cells": [
    {
      "cell_type": "code",
      "metadata": {
        "id": "zX4Kg8DUTKWO",
        "colab_type": "code",
        "colab": {}
      },
      "source": [
        "#@title Licensed under the Apache License, Version 2.0 (the \"License\");\n",
        "# you may not use this file except in compliance with the License.\n",
        "# You may obtain a copy of the License at\n",
        "#\n",
        "# https://www.apache.org/licenses/LICENSE-2.0\n",
        "#\n",
        "# Unless required by applicable law or agreed to in writing, software\n",
        "# distributed under the License is distributed on an \"AS IS\" BASIS,\n",
        "# WITHOUT WARRANTIES OR CONDITIONS OF ANY KIND, either express or implied.\n",
        "# See the License for the specific language governing permissions and\n",
        "# limitations under the License."
      ],
      "execution_count": 0,
      "outputs": []
    },
    {
      "cell_type": "markdown",
      "metadata": {
        "id": "I_IgHjqpL7l_",
        "colab_type": "text"
      },
      "source": [
        "This notebook is largely based on the Course 3 of the coursera [Tensorflow in Practice Specialization](https://github.com/lmoroney/dlaicourse/tree/master/TensorFlow%20In%20Practice/Course%203%20-%20NLP://)\n",
        "\n",
        "Training music code is taken from [here](https://soundcloud.com/user-195236670://) , kudos to scrbnmac for his great work writing sonic Pi music"
      ]
    },
    {
      "cell_type": "code",
      "metadata": {
        "colab_type": "code",
        "id": "BOwsuGQQY9OL",
        "colab": {}
      },
      "source": [
        "from google.colab import files\n",
        "from tensorflow.keras.preprocessing.sequence import pad_sequences\n",
        "from tensorflow.keras.layers import Embedding, LSTM, Dense, Dropout, Bidirectional\n",
        "from tensorflow.keras.preprocessing.text import Tokenizer\n",
        "from tensorflow.keras.models import Sequential\n",
        "from tensorflow.keras.optimizers import Adam\n",
        "from tensorflow.keras import regularizers\n",
        "import tensorflow.keras.utils as ku \n",
        "import numpy as np\n",
        "import io"
      ],
      "execution_count": 0,
      "outputs": []
    },
    {
      "cell_type": "markdown",
      "metadata": {
        "id": "setj8abFI1mE",
        "colab_type": "text"
      },
      "source": [
        "Now we need some training data, I have selected this nice track by Purcell, https://gist.github.com/rbnpi/8785fd93087ca115ff2799f8bd72153c   \n",
        "Code basically follows this pattern:\n",
        "\n",
        "```\n",
        "a1=[]\n",
        "b1=[]\n",
        "a1[0]=[:C3,:B2,:G2,:r,:r,...,:Ef5,:D5,:Ef5,:C3,:B2,:G2,:r,:r,:Bf3,:Ef3,:D3,:B2,:C3,:Ef3,:F3,:G3,:r]\n",
        "b1[0]=[0.5,0.5...2.0]\n",
        "c1=[70]\n",
        "in_thread do\n",
        "  for i in 0..a1.length-1\n",
        "    use_bpm c1[i]\n",
        "    for j in 0..a1[i].length-1\n",
        "      play a1[i][j],sustain: b1[i][j]*0.9,release: b1[i][j]*0.1\n",
        "      sleep b1[i][j]\n",
        "    end\n",
        "  end\n",
        "end\n",
        "```\n",
        "Where\n",
        "*   **a**  is the notes list\n",
        "*   **b** is the notes duration list\n",
        "*   **c** is the BPM\n",
        "\n",
        "To make things easier we are going to learn the notes list, leaving the duration and the bpm static.\n",
        "So I have created a training set extracting the notes list. Training data is on the train_data.rb file\n",
        "\n"
      ]
    },
    {
      "cell_type": "code",
      "metadata": {
        "colab_type": "code",
        "id": "PRnDnCW-Z7qv",
        "outputId": "e07a20de-58d9-4ac3-864e-32e4dd199021",
        "colab": {
          "resources": {
            "http://localhost:8080/nbextensions/google.colab/files.js": {
              "data": "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",
              "ok": true,
              "headers": [
                [
                  "content-type",
                  "application/javascript"
                ]
              ],
              "status": 200,
              "status_text": ""
            }
          },
          "base_uri": "https://localhost:8080/",
          "height": 71
        }
      },
      "source": [
        "file_uploaded = files.upload()\n",
        "data = str(file_uploaded['train_data.rb'])\n",
        "corpus = data.lower().split(\"\\n\")\n",
        "\n",
        "tokenizer = Tokenizer()\n",
        "tokenizer.fit_on_texts(corpus)\n",
        "total_words = len(tokenizer.word_index) + 1\n",
        "\n",
        "# create input sequences using list of tokens\n",
        "input_sequences = []\n",
        "for line in corpus:\n",
        "\ttoken_list = tokenizer.texts_to_sequences([line])[0]\n",
        "\tfor i in range(1, len(token_list)):\n",
        "\t\tn_gram_sequence = token_list[:i+1]\n",
        "\t\tinput_sequences.append(n_gram_sequence)\n",
        "\n",
        "\n",
        "# pad sequences \n",
        "max_sequence_len = max([len(x) for x in input_sequences])\n",
        "input_sequences = np.array(pad_sequences(input_sequences, maxlen=max_sequence_len, padding='pre'))\n",
        "# create predictors and label\n",
        "predictors, label = input_sequences[:,:-1],input_sequences[:,-1]\n",
        "\n",
        "label = ku.to_categorical(label, num_classes=total_words)"
      ],
      "execution_count": 8,
      "outputs": [
        {
          "output_type": "display_data",
          "data": {
            "text/html": [
              "\n",
              "     <input type=\"file\" id=\"files-3d22dfc1-e9c0-40e4-a7d9-a44d5eff1d61\" name=\"files[]\" multiple disabled />\n",
              "     <output id=\"result-3d22dfc1-e9c0-40e4-a7d9-a44d5eff1d61\">\n",
              "      Upload widget is only available when the cell has been executed in the\n",
              "      current browser session. Please rerun this cell to enable.\n",
              "      </output>\n",
              "      <script src=\"/nbextensions/google.colab/files.js\"></script> "
            ],
            "text/plain": [
              "<IPython.core.display.HTML object>"
            ]
          },
          "metadata": {
            "tags": []
          }
        },
        {
          "output_type": "stream",
          "text": [
            "Saving train_data.rb to train_data (1).rb\n"
          ],
          "name": "stdout"
        }
      ]
    },
    {
      "cell_type": "markdown",
      "metadata": {
        "id": "8O678GRAOEDL",
        "colab_type": "text"
      },
      "source": [
        "Our model present a canonical architecture for text generation. "
      ]
    },
    {
      "cell_type": "code",
      "metadata": {
        "colab_type": "code",
        "id": "w9vH8Y59ajYL",
        "outputId": "1ef87ead-f0fc-4234-a83f-177edb867766",
        "colab": {
          "base_uri": "https://localhost:8080/",
          "height": 374
        }
      },
      "source": [
        "model = Sequential()\n",
        "model.add(Embedding(total_words, 100, input_length=max_sequence_len-1))\n",
        "model.add(Bidirectional(LSTM(150, return_sequences = True)))\n",
        "model.add(Dropout(0.2))\n",
        "model.add(LSTM(100))\n",
        "model.add(Dense(total_words/2, activation='relu', kernel_regularizer=regularizers.l2(0.01)))\n",
        "model.add(Dense(total_words, activation='softmax'))\n",
        "model.compile(loss='categorical_crossentropy', optimizer='adam', metrics=['accuracy'])\n",
        "print(model.summary())\n"
      ],
      "execution_count": 9,
      "outputs": [
        {
          "output_type": "stream",
          "text": [
            "Model: \"sequential_1\"\n",
            "_________________________________________________________________\n",
            "Layer (type)                 Output Shape              Param #   \n",
            "=================================================================\n",
            "embedding_1 (Embedding)      (None, 1225, 100)         3400      \n",
            "_________________________________________________________________\n",
            "bidirectional_1 (Bidirection (None, 1225, 300)         301200    \n",
            "_________________________________________________________________\n",
            "dropout_1 (Dropout)          (None, 1225, 300)         0         \n",
            "_________________________________________________________________\n",
            "lstm_3 (LSTM)                (None, 100)               160400    \n",
            "_________________________________________________________________\n",
            "dense_2 (Dense)              (None, 17)                1717      \n",
            "_________________________________________________________________\n",
            "dense_3 (Dense)              (None, 34)                612       \n",
            "=================================================================\n",
            "Total params: 467,329\n",
            "Trainable params: 467,329\n",
            "Non-trainable params: 0\n",
            "_________________________________________________________________\n",
            "None\n"
          ],
          "name": "stdout"
        }
      ]
    },
    {
      "cell_type": "code",
      "metadata": {
        "colab_type": "code",
        "id": "AIg2f1HBxqof",
        "outputId": "eb6512a1-f7d4-444f-c660-7194e0de38f6",
        "colab": {
          "base_uri": "https://localhost:8080/",
          "height": 1000
        }
      },
      "source": [
        " history = model.fit(predictors, label, epochs=100, verbose=1)"
      ],
      "execution_count": 20,
      "outputs": [
        {
          "output_type": "stream",
          "text": [
            "Epoch 1/100\n",
            "39/39 [==============================] - 6s 155ms/step - loss: 1.9566 - accuracy: 0.4727\n",
            "Epoch 2/100\n",
            "39/39 [==============================] - 6s 153ms/step - loss: 1.9274 - accuracy: 0.4653\n",
            "Epoch 3/100\n",
            "39/39 [==============================] - 6s 154ms/step - loss: 1.9002 - accuracy: 0.4710\n",
            "Epoch 4/100\n",
            "39/39 [==============================] - 6s 153ms/step - loss: 1.8790 - accuracy: 0.4702\n",
            "Epoch 5/100\n",
            "39/39 [==============================] - 6s 153ms/step - loss: 1.8798 - accuracy: 0.4800\n",
            "Epoch 6/100\n",
            "39/39 [==============================] - 6s 155ms/step - loss: 1.8838 - accuracy: 0.4767\n",
            "Epoch 7/100\n",
            "39/39 [==============================] - 6s 156ms/step - loss: 1.8527 - accuracy: 0.4833\n",
            "Epoch 8/100\n",
            "39/39 [==============================] - 6s 155ms/step - loss: 1.8297 - accuracy: 0.4833\n",
            "Epoch 9/100\n",
            "39/39 [==============================] - 6s 154ms/step - loss: 1.8172 - accuracy: 0.4767\n",
            "Epoch 10/100\n",
            "39/39 [==============================] - 6s 155ms/step - loss: 1.8078 - accuracy: 0.4971\n",
            "Epoch 11/100\n",
            "39/39 [==============================] - 6s 154ms/step - loss: 1.7762 - accuracy: 0.4963\n",
            "Epoch 12/100\n",
            "39/39 [==============================] - 6s 156ms/step - loss: 1.7560 - accuracy: 0.4971\n",
            "Epoch 13/100\n",
            "39/39 [==============================] - 6s 154ms/step - loss: 1.7299 - accuracy: 0.5045\n",
            "Epoch 14/100\n",
            "39/39 [==============================] - 6s 154ms/step - loss: 1.7141 - accuracy: 0.5127\n",
            "Epoch 15/100\n",
            "39/39 [==============================] - 6s 155ms/step - loss: 1.7046 - accuracy: 0.5012\n",
            "Epoch 16/100\n",
            "39/39 [==============================] - 6s 155ms/step - loss: 1.6858 - accuracy: 0.5069\n",
            "Epoch 17/100\n",
            "39/39 [==============================] - 6s 155ms/step - loss: 1.6391 - accuracy: 0.5233\n",
            "Epoch 18/100\n",
            "39/39 [==============================] - 6s 155ms/step - loss: 1.6311 - accuracy: 0.5265\n",
            "Epoch 19/100\n",
            "39/39 [==============================] - 6s 156ms/step - loss: 1.6065 - accuracy: 0.5347\n",
            "Epoch 20/100\n",
            "39/39 [==============================] - 6s 156ms/step - loss: 1.5751 - accuracy: 0.5502\n",
            "Epoch 21/100\n",
            "39/39 [==============================] - 6s 156ms/step - loss: 1.5511 - accuracy: 0.5494\n",
            "Epoch 22/100\n",
            "39/39 [==============================] - 6s 154ms/step - loss: 1.5311 - accuracy: 0.5690\n",
            "Epoch 23/100\n",
            "39/39 [==============================] - 6s 155ms/step - loss: 1.4855 - accuracy: 0.5673\n",
            "Epoch 24/100\n",
            "39/39 [==============================] - 6s 157ms/step - loss: 1.4548 - accuracy: 0.5747\n",
            "Epoch 25/100\n",
            "39/39 [==============================] - 6s 155ms/step - loss: 1.4128 - accuracy: 0.5829\n",
            "Epoch 26/100\n",
            "39/39 [==============================] - 6s 155ms/step - loss: 1.4052 - accuracy: 0.5910\n",
            "Epoch 27/100\n",
            "39/39 [==============================] - 6s 155ms/step - loss: 1.3614 - accuracy: 0.6155\n",
            "Epoch 28/100\n",
            "39/39 [==============================] - 6s 155ms/step - loss: 1.3374 - accuracy: 0.6000\n",
            "Epoch 29/100\n",
            "39/39 [==============================] - 6s 154ms/step - loss: 1.3021 - accuracy: 0.6261\n",
            "Epoch 30/100\n",
            "39/39 [==============================] - 6s 155ms/step - loss: 1.2782 - accuracy: 0.6327\n",
            "Epoch 31/100\n",
            "39/39 [==============================] - 6s 154ms/step - loss: 1.2454 - accuracy: 0.6490\n",
            "Epoch 32/100\n",
            "39/39 [==============================] - 6s 156ms/step - loss: 1.2197 - accuracy: 0.6580\n",
            "Epoch 33/100\n",
            "39/39 [==============================] - 6s 156ms/step - loss: 1.1843 - accuracy: 0.6718\n",
            "Epoch 34/100\n",
            "39/39 [==============================] - 6s 156ms/step - loss: 1.1576 - accuracy: 0.6898\n",
            "Epoch 35/100\n",
            "39/39 [==============================] - 6s 157ms/step - loss: 1.1288 - accuracy: 0.6922\n",
            "Epoch 36/100\n",
            "39/39 [==============================] - 6s 156ms/step - loss: 1.1063 - accuracy: 0.7127\n",
            "Epoch 37/100\n",
            "39/39 [==============================] - 6s 155ms/step - loss: 1.0655 - accuracy: 0.7176\n",
            "Epoch 38/100\n",
            "39/39 [==============================] - 6s 154ms/step - loss: 1.0564 - accuracy: 0.7216\n",
            "Epoch 39/100\n",
            "39/39 [==============================] - 6s 156ms/step - loss: 1.0176 - accuracy: 0.7380\n",
            "Epoch 40/100\n",
            "39/39 [==============================] - 6s 156ms/step - loss: 1.0003 - accuracy: 0.7453\n",
            "Epoch 41/100\n",
            "39/39 [==============================] - 6s 155ms/step - loss: 0.9885 - accuracy: 0.7600\n",
            "Epoch 42/100\n",
            "39/39 [==============================] - 6s 157ms/step - loss: 0.9517 - accuracy: 0.7600\n",
            "Epoch 43/100\n",
            "39/39 [==============================] - 6s 156ms/step - loss: 0.9299 - accuracy: 0.7731\n",
            "Epoch 44/100\n",
            "39/39 [==============================] - 6s 156ms/step - loss: 0.9382 - accuracy: 0.7698\n",
            "Epoch 45/100\n",
            "39/39 [==============================] - 6s 157ms/step - loss: 0.8877 - accuracy: 0.7837\n",
            "Epoch 46/100\n",
            "39/39 [==============================] - 6s 159ms/step - loss: 0.8653 - accuracy: 0.7910\n",
            "Epoch 47/100\n",
            "39/39 [==============================] - 6s 158ms/step - loss: 0.8543 - accuracy: 0.8049\n",
            "Epoch 48/100\n",
            "39/39 [==============================] - 6s 158ms/step - loss: 0.8291 - accuracy: 0.8171\n",
            "Epoch 49/100\n",
            "39/39 [==============================] - 6s 159ms/step - loss: 0.8149 - accuracy: 0.8139\n",
            "Epoch 50/100\n",
            "39/39 [==============================] - 6s 160ms/step - loss: 0.7761 - accuracy: 0.8204\n",
            "Epoch 51/100\n",
            "39/39 [==============================] - 6s 160ms/step - loss: 0.7524 - accuracy: 0.8359\n",
            "Epoch 52/100\n",
            "39/39 [==============================] - 6s 159ms/step - loss: 0.7210 - accuracy: 0.8482\n",
            "Epoch 53/100\n",
            "39/39 [==============================] - 6s 161ms/step - loss: 0.7184 - accuracy: 0.8580\n",
            "Epoch 54/100\n",
            "39/39 [==============================] - 6s 159ms/step - loss: 0.6899 - accuracy: 0.8612\n",
            "Epoch 55/100\n",
            "39/39 [==============================] - 6s 160ms/step - loss: 0.6743 - accuracy: 0.8661\n",
            "Epoch 56/100\n",
            "39/39 [==============================] - 6s 157ms/step - loss: 0.6825 - accuracy: 0.8604\n",
            "Epoch 57/100\n",
            "39/39 [==============================] - 6s 156ms/step - loss: 0.6604 - accuracy: 0.8792\n",
            "Epoch 58/100\n",
            "39/39 [==============================] - 6s 158ms/step - loss: 0.6491 - accuracy: 0.8873\n",
            "Epoch 59/100\n",
            "39/39 [==============================] - 6s 158ms/step - loss: 0.6420 - accuracy: 0.8873\n",
            "Epoch 60/100\n",
            "39/39 [==============================] - 6s 158ms/step - loss: 0.6200 - accuracy: 0.8955\n",
            "Epoch 61/100\n",
            "39/39 [==============================] - 6s 157ms/step - loss: 0.5852 - accuracy: 0.9143\n",
            "Epoch 62/100\n",
            "39/39 [==============================] - 6s 157ms/step - loss: 0.5639 - accuracy: 0.9086\n",
            "Epoch 63/100\n",
            "39/39 [==============================] - 6s 155ms/step - loss: 0.5665 - accuracy: 0.9167\n",
            "Epoch 64/100\n",
            "39/39 [==============================] - 6s 157ms/step - loss: 0.5604 - accuracy: 0.9167\n",
            "Epoch 65/100\n",
            "39/39 [==============================] - 6s 156ms/step - loss: 0.5476 - accuracy: 0.9241\n",
            "Epoch 66/100\n",
            "39/39 [==============================] - 6s 157ms/step - loss: 0.5271 - accuracy: 0.9380\n",
            "Epoch 67/100\n",
            "39/39 [==============================] - 6s 156ms/step - loss: 0.5154 - accuracy: 0.9355\n",
            "Epoch 68/100\n",
            "39/39 [==============================] - 6s 157ms/step - loss: 0.5058 - accuracy: 0.9282\n",
            "Epoch 69/100\n",
            "39/39 [==============================] - 6s 158ms/step - loss: 0.4910 - accuracy: 0.9355\n",
            "Epoch 70/100\n",
            "39/39 [==============================] - 6s 158ms/step - loss: 0.4660 - accuracy: 0.9478\n",
            "Epoch 71/100\n",
            "39/39 [==============================] - 6s 158ms/step - loss: 0.4546 - accuracy: 0.9494\n",
            "Epoch 72/100\n",
            "39/39 [==============================] - 6s 158ms/step - loss: 0.4454 - accuracy: 0.9502\n",
            "Epoch 73/100\n",
            "39/39 [==============================] - 6s 158ms/step - loss: 0.4612 - accuracy: 0.9437\n",
            "Epoch 74/100\n",
            "39/39 [==============================] - 6s 157ms/step - loss: 0.4645 - accuracy: 0.9527\n",
            "Epoch 75/100\n",
            "39/39 [==============================] - 6s 159ms/step - loss: 0.4514 - accuracy: 0.9486\n",
            "Epoch 76/100\n",
            "39/39 [==============================] - 6s 158ms/step - loss: 0.4317 - accuracy: 0.9478\n",
            "Epoch 77/100\n",
            "39/39 [==============================] - 6s 158ms/step - loss: 0.4103 - accuracy: 0.9527\n",
            "Epoch 78/100\n",
            "39/39 [==============================] - 6s 160ms/step - loss: 0.4015 - accuracy: 0.9616\n",
            "Epoch 79/100\n",
            "39/39 [==============================] - 6s 160ms/step - loss: 0.4123 - accuracy: 0.9576\n",
            "Epoch 80/100\n",
            "39/39 [==============================] - 6s 161ms/step - loss: 0.3977 - accuracy: 0.9657\n",
            "Epoch 81/100\n",
            "39/39 [==============================] - 6s 159ms/step - loss: 0.3854 - accuracy: 0.9673\n",
            "Epoch 82/100\n",
            "39/39 [==============================] - 6s 157ms/step - loss: 0.3614 - accuracy: 0.9714\n",
            "Epoch 83/100\n",
            "39/39 [==============================] - 6s 158ms/step - loss: 0.3592 - accuracy: 0.9706\n",
            "Epoch 84/100\n",
            "39/39 [==============================] - 6s 161ms/step - loss: 0.3524 - accuracy: 0.9747\n",
            "Epoch 85/100\n",
            "39/39 [==============================] - 6s 158ms/step - loss: 0.3486 - accuracy: 0.9714\n",
            "Epoch 86/100\n",
            "39/39 [==============================] - 6s 157ms/step - loss: 0.3669 - accuracy: 0.9641\n",
            "Epoch 87/100\n",
            "39/39 [==============================] - 6s 158ms/step - loss: 0.3711 - accuracy: 0.9633\n",
            "Epoch 88/100\n",
            "39/39 [==============================] - 6s 157ms/step - loss: 0.3569 - accuracy: 0.9722\n",
            "Epoch 89/100\n",
            "39/39 [==============================] - 6s 157ms/step - loss: 0.3351 - accuracy: 0.9714\n",
            "Epoch 90/100\n",
            "39/39 [==============================] - 6s 158ms/step - loss: 0.3223 - accuracy: 0.9747\n",
            "Epoch 91/100\n",
            "39/39 [==============================] - 6s 157ms/step - loss: 0.3142 - accuracy: 0.9788\n",
            "Epoch 92/100\n",
            "39/39 [==============================] - 6s 157ms/step - loss: 0.3025 - accuracy: 0.9820\n",
            "Epoch 93/100\n",
            "39/39 [==============================] - 6s 156ms/step - loss: 0.2984 - accuracy: 0.9812\n",
            "Epoch 94/100\n",
            "39/39 [==============================] - 6s 157ms/step - loss: 0.3039 - accuracy: 0.9837\n",
            "Epoch 95/100\n",
            "39/39 [==============================] - 6s 159ms/step - loss: 0.2905 - accuracy: 0.9812\n",
            "Epoch 96/100\n",
            "39/39 [==============================] - 6s 159ms/step - loss: 0.2972 - accuracy: 0.9796\n",
            "Epoch 97/100\n",
            "39/39 [==============================] - 6s 157ms/step - loss: 0.2882 - accuracy: 0.9771\n",
            "Epoch 98/100\n",
            "39/39 [==============================] - 6s 157ms/step - loss: 0.2868 - accuracy: 0.9804\n",
            "Epoch 99/100\n",
            "39/39 [==============================] - 6s 158ms/step - loss: 0.2763 - accuracy: 0.9804\n",
            "Epoch 100/100\n",
            "39/39 [==============================] - 6s 158ms/step - loss: 0.2693 - accuracy: 0.9878\n"
          ],
          "name": "stdout"
        }
      ]
    },
    {
      "cell_type": "code",
      "metadata": {
        "colab_type": "code",
        "id": "1fXTEO3GJ282",
        "outputId": "47b25ab2-b84e-4e15-c164-9356c6c611c2",
        "colab": {
          "base_uri": "https://localhost:8080/",
          "height": 545
        }
      },
      "source": [
        "import matplotlib.pyplot as plt\n",
        "acc = history.history['accuracy']\n",
        "loss = history.history['loss']\n",
        "\n",
        "epochs = range(len(acc))\n",
        "\n",
        "plt.plot(epochs, acc, 'b', label='Training accuracy')\n",
        "plt.title('Training accuracy')\n",
        "\n",
        "plt.figure()\n",
        "\n",
        "plt.plot(epochs, loss, 'b', label='Training Loss')\n",
        "plt.title('Training loss')\n",
        "plt.legend()\n",
        "\n",
        "plt.show()"
      ],
      "execution_count": 21,
      "outputs": [
        {
          "output_type": "display_data",
          "data": {
            "image/png": "[encoded data removed]",
            "text/plain": [
              "<Figure size 432x288 with 1 Axes>"
            ]
          },
          "metadata": {
            "tags": [],
            "needs_background": "light"
          }
        },
        {
          "output_type": "display_data",
          "data": {
            "image/png": "[encoded data removed]",
            "text/plain": [
              "<Figure size 432x288 with 1 Axes>"
            ]
          },
          "metadata": {
            "tags": [],
            "needs_background": "light"
          }
        }
      ]
    },
    {
      "cell_type": "markdown",
      "metadata": {
        "id": "xlJycUrlMeon",
        "colab_type": "text"
      },
      "source": [
        "These are pretty neat training metrics.\n",
        "Lets add some random seed to start our composition .."
      ]
    },
    {
      "cell_type": "code",
      "metadata": {
        "colab_type": "code",
        "id": "6Vc6PHgxa6Hm",
        "outputId": "e0418931-9f99-419f-fef9-e0e0f91fd27b",
        "colab": {
          "base_uri": "https://localhost:8080/",
          "height": 54
        }
      },
      "source": [
        "seed_text = \":Af5,:c4\"\n",
        "next_words = 500\n",
        "  \n",
        "for _ in range(next_words):\n",
        "\ttoken_list = tokenizer.texts_to_sequences([seed_text])[0]\n",
        "\ttoken_list = pad_sequences([token_list], maxlen=max_sequence_len-1, padding='pre')\n",
        "\tpredicted = model.predict_classes(token_list, verbose=0)\n",
        "\toutput_word = \"\"\n",
        "\tfor word, index in tokenizer.word_index.items():\n",
        "\t\tif index == predicted:\n",
        "\t\t\toutput_word = word\n",
        "\t\t\tbreak\n",
        "\tseed_text += \" \" + output_word"
      ],
      "execution_count": 34,
      "outputs": [
        {
          "output_type": "stream",
          "text": [
            ":Af5,:c4 g5 f5 g5 f5 ef5 d5 c5 f3 r f3 r bf5 af5 r b3 r af5 g5 r a3 r g5 d5 ef5 f5 g5 ef5 d5 c5 c3 c3 b2 g2 r r bf3 ef3 d3 b2 r ef4 r r c4 r g3 r f3 r bf3 r c4 r b3 r r g3 ef4 d4 c4 r c3 r r g4 r c4 ef4 r r f4 ef3 d3 b2 c3 ef3 f3 g3 r r r r r g3 r c3 r r g4 r c4 ef4 r r f4 ef3 d3 b2 r r g3 r r r r r b2 g2 r r bf3 ef3 d3 b2 r g5 g5 g5 f5 f5 f5 ef5 af5 g5 f5 bf5 af5 g5 af5 g5 f5 g5 f5 ef5 d5 ef5 c3 b2 g2 r r bf3 ef3 d3 b2 c3 ef3 f3 g3 r n r af2 f2 f4 r r ef4 c4 d4 r r c3 r g3 r r bf3 r c4 r b3 r r af2 f2 f4 r c3 ef3 r g3 r r r r r r d3 g3 r c3 f3 r bf3 r r r r r r r d3 g3 r c3 f3 r bf3 r r r r r r r d3 g3 r c3 f3 r bf3 r r r r r r r d3 g3 r c3 f3 r bf3 r r r r r r r d3 g3 r c3 f3 r bf3 r r r r r r r c4 r g3 r f3 r bf3 r c4 r b3 r r g3 r g3 c4 r r g4 r r af4 bf2 bf2 r b3 r c4 r a3 b3 r r c4 r g3 r f3 r bf3 r c4 r b3 r r g3 r g3 c4 r r g4 r r af4 bf2 bf2 r b3 r c4 r a3 b3 r r c4 r g3 r r bf3 r r c4 r b3 r r g3 r r ef4 r r r f4 ef3 bf2 ef3 r g4 g3 r r ef4 r r r r r g3 r r d3 g3 r c3 f3 r r c4 c3 r r d4 r r r r r r r ef4 r r r r r ef4 r r r r c4 r g3 r f3 r bf3 r c4 r b3 r r c4 r r f4 r r r r ef4 r r r r r ef4 r r r r ef4 r r c3 ef3 r r g5 r g3 r r c5 r d3 r r d5 r c3 r r f5 r f3 r r g5 r b3 r r f5 r a3 r r ef5 c3 ef3 f3 b4 r r r f4 r r r r ef4 r r r r r ef4 r r r r ef4 r r r c3 ef3 g3 n r r ef4 c4 c3\n"
          ],
          "name": "stdout"
        }
      ]
    },
    {
      "cell_type": "markdown",
      "metadata": {
        "id": "-VwNayDlMme4",
        "colab_type": "text"
      },
      "source": [
        "And some final editing for making easier to copy and paste the code"
      ]
    },
    {
      "cell_type": "code",
      "metadata": {
        "id": "YYGkgVI407ZM",
        "colab_type": "code",
        "colab": {
          "base_uri": "https://localhost:8080/",
          "height": 54
        },
        "outputId": "b562bb31-8cff-4e80-e223-e3d8d6f058b7"
      },
      "source": [
        "notes_list = seed_text.split()\n",
        "sonic_pi_vector_temp = \"[\"\n",
        "for note in notes_list:\n",
        "  sonic_pi_vector_temp += \":\"+note+\",\"\n",
        "sonic_pi_vector_temp += \"]\"\n",
        "print(sonic_pi_vector_temp) "
      ],
      "execution_count": 36,
      "outputs": [
        {
          "output_type": "stream",
          "text": [
            "[::Af5,:c4,:g5,:f5,:g5,:f5,:ef5,:d5,:c5,:f3,:r,:f3,:r,:bf5,:af5,:r,:b3,:r,:af5,:g5,:r,:a3,:r,:g5,:d5,:ef5,:f5,:g5,:ef5,:d5,:c5,:c3,:c3,:b2,:g2,:r,:r,:bf3,:ef3,:d3,:b2,:r,:ef4,:r,:r,:c4,:r,:g3,:r,:f3,:r,:bf3,:r,:c4,:r,:b3,:r,:r,:g3,:ef4,:d4,:c4,:r,:c3,:r,:r,:g4,:r,:c4,:ef4,:r,:r,:f4,:ef3,:d3,:b2,:c3,:ef3,:f3,:g3,:r,:r,:r,:r,:r,:g3,:r,:c3,:r,:r,:g4,:r,:c4,:ef4,:r,:r,:f4,:ef3,:d3,:b2,:r,:r,:g3,:r,:r,:r,:r,:r,:b2,:g2,:r,:r,:bf3,:ef3,:d3,:b2,:r,:g5,:g5,:g5,:f5,:f5,:f5,:ef5,:af5,:g5,:f5,:bf5,:af5,:g5,:af5,:g5,:f5,:g5,:f5,:ef5,:d5,:ef5,:c3,:b2,:g2,:r,:r,:bf3,:ef3,:d3,:b2,:c3,:ef3,:f3,:g3,:r,:n,:r,:af2,:f2,:f4,:r,:r,:ef4,:c4,:d4,:r,:r,:c3,:r,:g3,:r,:r,:bf3,:r,:c4,:r,:b3,:r,:r,:af2,:f2,:f4,:r,:c3,:ef3,:r,:g3,:r,:r,:r,:r,:r,:r,:d3,:g3,:r,:c3,:f3,:r,:bf3,:r,:r,:r,:r,:r,:r,:r,:d3,:g3,:r,:c3,:f3,:r,:bf3,:r,:r,:r,:r,:r,:r,:r,:d3,:g3,:r,:c3,:f3,:r,:bf3,:r,:r,:r,:r,:r,:r,:r,:d3,:g3,:r,:c3,:f3,:r,:bf3,:r,:r,:r,:r,:r,:r,:r,:d3,:g3,:r,:c3,:f3,:r,:bf3,:r,:r,:r,:r,:r,:r,:r,:c4,:r,:g3,:r,:f3,:r,:bf3,:r,:c4,:r,:b3,:r,:r,:g3,:r,:g3,:c4,:r,:r,:g4,:r,:r,:af4,:bf2,:bf2,:r,:b3,:r,:c4,:r,:a3,:b3,:r,:r,:c4,:r,:g3,:r,:f3,:r,:bf3,:r,:c4,:r,:b3,:r,:r,:g3,:r,:g3,:c4,:r,:r,:g4,:r,:r,:af4,:bf2,:bf2,:r,:b3,:r,:c4,:r,:a3,:b3,:r,:r,:c4,:r,:g3,:r,:r,:bf3,:r,:r,:c4,:r,:b3,:r,:r,:g3,:r,:r,:ef4,:r,:r,:r,:f4,:ef3,:bf2,:ef3,:r,:g4,:g3,:r,:r,:ef4,:r,:r,:r,:r,:r,:g3,:r,:r,:d3,:g3,:r,:c3,:f3,:r,:r,:c4,:c3,:r,:r,:d4,:r,:r,:r,:r,:r,:r,:r,:ef4,:r,:r,:r,:r,:r,:ef4,:r,:r,:r,:r,:c4,:r,:g3,:r,:f3,:r,:bf3,:r,:c4,:r,:b3,:r,:r,:c4,:r,:r,:f4,:r,:r,:r,:r,:ef4,:r,:r,:r,:r,:r,:ef4,:r,:r,:r,:r,:ef4,:r,:r,:c3,:ef3,:r,:r,:g5,:r,:g3,:r,:r,:c5,:r,:d3,:r,:r,:d5,:r,:c3,:r,:r,:f5,:r,:f3,:r,:r,:g5,:r,:b3,:r,:r,:f5,:r,:a3,:r,:r,:ef5,:c3,:ef3,:f3,:b4,:r,:r,:r,:f4,:r,:r,:r,:r,:ef4,:r,:r,:r,:r,:r,:ef4,:r,:r,:r,:r,:ef4,:r,:r,:r,:c3,:ef3,:g3,:n,:r,:r,:ef4,:c4,:c3,]\n"
          ],
          "name": "stdout"
        }
      ]
    },
    {
      "cell_type": "code",
      "metadata": {
        "id": "6W17WqigOZqh",
        "colab_type": "code",
        "colab": {}
      },
      "source": [
        "How will it sound? Cannot wait!"
      ],
      "execution_count": 0,
      "outputs": []
    }
  ]
}